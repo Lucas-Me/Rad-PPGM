{
 "cells": [
  {
   "cell_type": "code",
   "execution_count": 3,
   "metadata": {},
   "outputs": [],
   "source": [
    "import numpy as np\n",
    "import pandas as pd"
   ]
  },
  {
   "cell_type": "code",
   "execution_count": 4,
   "metadata": {},
   "outputs": [
    {
     "name": "stdout",
     "output_type": "stream",
     "text": [
      "      pres   hght    temp    dwpt  relh   mixr  drct  sknt   thta   thte  \\\n",
      "0   1006.0      9  299.35  292.35    65  14.12    40     4  298.8  340.2   \n",
      "1   1000.0     62  301.15  288.15    45  10.83    40     4  301.1  333.4   \n",
      "2    998.0     80  301.95  285.95    37   9.39    37     5  302.1  330.3   \n",
      "3    970.0    333  301.55  283.55    33   8.22   358    19  304.2  329.2   \n",
      "4    940.1    610  300.75  281.05    29   7.16   315    35  306.1  328.1   \n",
      "..     ...    ...     ...     ...   ...    ...   ...   ...    ...    ...   \n",
      "72    38.0  22400  219.65  186.85     1   0.01   235    14  559.2  559.2   \n",
      "73    36.0  22744  221.25  187.35     1   0.01   310     9  571.9  571.9   \n",
      "74    35.7  22797  221.45  187.45     1   0.01   317    10  573.9  573.9   \n",
      "75    35.0  22925  221.05  187.25     1   0.01   335    11  576.2  576.2   \n",
      "76    32.3  23443  219.65  186.65     1   0.01   277    15  585.7  585.8   \n",
      "\n",
      "     thtv  \n",
      "0   301.4  \n",
      "1   303.1  \n",
      "2   303.8  \n",
      "3   305.7  \n",
      "4   307.4  \n",
      "..    ...  \n",
      "72  559.2  \n",
      "73  571.9  \n",
      "74  573.9  \n",
      "75  576.2  \n",
      "76  585.7  \n",
      "\n",
      "[77 rows x 11 columns]\n"
     ]
    }
   ],
   "source": [
    "# LENDO SONDAGEM DO GALEAO 12Z 2023-07-23\n",
    "df = pd.read_csv(\n",
    "    r\"C:\\Users\\lucas\\Documents\\Disciplinas\\Radiacao\\Trabalho\\Dados\\sbgl_12z_13jul23.txt\",\n",
    "    sep = '\\s+',\n",
    "    names = ['pres', 'hght', 'temp', 'dwpt', 'relh', 'mixr', 'drct', 'sknt', 'thta', 'thte', 'thtv']\n",
    "    )\n",
    "\n",
    "# degC para Kelvin\n",
    "df['temp'] += 273.15\n",
    "df['dwpt'] += 273.15\n",
    "\n",
    "print(df)"
   ]
  },
  {
   "cell_type": "code",
   "execution_count": 5,
   "metadata": {},
   "outputs": [],
   "source": [
    "nrows = df.shape[0]\n",
    "\n",
    "# PARAMETROS DO MODELO\n",
    "model = pd.DataFrame(dict(\n",
    "    u = df['hght'] - df['hght'].iloc[0], # em metros\n",
    "    t = df['temp']\n",
    "))\n",
    "\n",
    "# PARAMETROS P/ O H20 (vapor)\n",
    "u1 = model['u'].iloc[nrows - 1] # em metros\n",
    "u0 = model['u'].iloc[0] # em metros\n",
    "t1 = model['t'].iloc[nrows - 1] # em degC\n",
    "ts = model['t'].iloc[0] # em degC"
   ]
  },
  {
   "cell_type": "code",
   "execution_count": 6,
   "metadata": {},
   "outputs": [
    {
     "data": {
      "text/html": [
       "<div>\n",
       "<style scoped>\n",
       "    .dataframe tbody tr th:only-of-type {\n",
       "        vertical-align: middle;\n",
       "    }\n",
       "\n",
       "    .dataframe tbody tr th {\n",
       "        vertical-align: top;\n",
       "    }\n",
       "\n",
       "    .dataframe thead th {\n",
       "        text-align: right;\n",
       "    }\n",
       "</style>\n",
       "<table border=\"1\" class=\"dataframe\">\n",
       "  <thead>\n",
       "    <tr style=\"text-align: right;\">\n",
       "      <th></th>\n",
       "      <th>u</th>\n",
       "      <th>t</th>\n",
       "    </tr>\n",
       "  </thead>\n",
       "  <tbody>\n",
       "    <tr>\n",
       "      <th>0</th>\n",
       "      <td>0</td>\n",
       "      <td>299.35</td>\n",
       "    </tr>\n",
       "    <tr>\n",
       "      <th>1</th>\n",
       "      <td>53</td>\n",
       "      <td>301.15</td>\n",
       "    </tr>\n",
       "    <tr>\n",
       "      <th>2</th>\n",
       "      <td>71</td>\n",
       "      <td>301.95</td>\n",
       "    </tr>\n",
       "    <tr>\n",
       "      <th>3</th>\n",
       "      <td>324</td>\n",
       "      <td>301.55</td>\n",
       "    </tr>\n",
       "    <tr>\n",
       "      <th>4</th>\n",
       "      <td>601</td>\n",
       "      <td>300.75</td>\n",
       "    </tr>\n",
       "    <tr>\n",
       "      <th>...</th>\n",
       "      <td>...</td>\n",
       "      <td>...</td>\n",
       "    </tr>\n",
       "    <tr>\n",
       "      <th>72</th>\n",
       "      <td>22391</td>\n",
       "      <td>219.65</td>\n",
       "    </tr>\n",
       "    <tr>\n",
       "      <th>73</th>\n",
       "      <td>22735</td>\n",
       "      <td>221.25</td>\n",
       "    </tr>\n",
       "    <tr>\n",
       "      <th>74</th>\n",
       "      <td>22788</td>\n",
       "      <td>221.45</td>\n",
       "    </tr>\n",
       "    <tr>\n",
       "      <th>75</th>\n",
       "      <td>22916</td>\n",
       "      <td>221.05</td>\n",
       "    </tr>\n",
       "    <tr>\n",
       "      <th>76</th>\n",
       "      <td>23434</td>\n",
       "      <td>219.65</td>\n",
       "    </tr>\n",
       "  </tbody>\n",
       "</table>\n",
       "<p>77 rows × 2 columns</p>\n",
       "</div>"
      ],
      "text/plain": [
       "        u       t\n",
       "0       0  299.35\n",
       "1      53  301.15\n",
       "2      71  301.95\n",
       "3     324  301.55\n",
       "4     601  300.75\n",
       "..    ...     ...\n",
       "72  22391  219.65\n",
       "73  22735  221.25\n",
       "74  22788  221.45\n",
       "75  22916  221.05\n",
       "76  23434  219.65\n",
       "\n",
       "[77 rows x 2 columns]"
      ]
     },
     "execution_count": 6,
     "metadata": {},
     "output_type": "execute_result"
    }
   ],
   "source": [
    "model"
   ]
  }
 ],
 "metadata": {
  "kernelspec": {
   "display_name": "geospatial",
   "language": "python",
   "name": "python3"
  },
  "language_info": {
   "codemirror_mode": {
    "name": "ipython",
    "version": 3
   },
   "file_extension": ".py",
   "mimetype": "text/x-python",
   "name": "python",
   "nbconvert_exporter": "python",
   "pygments_lexer": "ipython3",
   "version": "3.11.3"
  },
  "orig_nbformat": 4
 },
 "nbformat": 4,
 "nbformat_minor": 2
}
