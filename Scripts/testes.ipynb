{
 "cells": [
  {
   "cell_type": "code",
   "execution_count": 2,
   "metadata": {},
   "outputs": [],
   "source": [
    "import numpy as np\n",
    "import pandas as pd"
   ]
  },
  {
   "cell_type": "code",
   "execution_count": 10,
   "metadata": {},
   "outputs": [
    {
     "name": "stdout",
     "output_type": "stream",
     "text": [
      "      pres   hght    temp    dwpt  relh   mixr  drct  sknt   thta   thte  \\\n",
      "0   1006.0      9  299.35  292.35    65  14.12    40     4  298.8  340.2   \n",
      "1   1000.0     62  301.15  288.15    45  10.83    40     4  301.1  333.4   \n",
      "2    998.0     80  301.95  285.95    37   9.39    37     5  302.1  330.3   \n",
      "3    970.0    333  301.55  283.55    33   8.22   358    19  304.2  329.2   \n",
      "4    940.1    610  300.75  281.05    29   7.16   315    35  306.1  328.1   \n",
      "..     ...    ...     ...     ...   ...    ...   ...   ...    ...    ...   \n",
      "72    38.0  22400  219.65  186.85     1   0.01   235    14  559.2  559.2   \n",
      "73    36.0  22744  221.25  187.35     1   0.01   310     9  571.9  571.9   \n",
      "74    35.7  22797  221.45  187.45     1   0.01   317    10  573.9  573.9   \n",
      "75    35.0  22925  221.05  187.25     1   0.01   335    11  576.2  576.2   \n",
      "76    32.3  23443  219.65  186.65     1   0.01   277    15  585.7  585.8   \n",
      "\n",
      "     thtv  \n",
      "0   301.4  \n",
      "1   303.1  \n",
      "2   303.8  \n",
      "3   305.7  \n",
      "4   307.4  \n",
      "..    ...  \n",
      "72  559.2  \n",
      "73  571.9  \n",
      "74  573.9  \n",
      "75  576.2  \n",
      "76  585.7  \n",
      "\n",
      "[77 rows x 11 columns]\n"
     ]
    }
   ],
   "source": [
    "# LENDO SONDAGEM DO GALEAO 12Z 2023-07-23\n",
    "df = pd.read_csv(\n",
    "    r\"C:\\Users\\lucas\\Documents\\Disciplinas\\Radiacao\\Trabalho\\Dados\\sbgl_12z_13jul23.txt\",\n",
    "    sep = '\\s+',\n",
    "    names = ['pres', 'hght', 'temp', 'dwpt', 'relh', 'mixr', 'drct', 'sknt', 'thta', 'thte', 'thtv']\n",
    "    )\n",
    "\n",
    "# degC para Kelvin\n",
    "df['temp'] += 273.15\n",
    "df['dwpt'] += 273.15\n",
    "\n",
    "print(df)"
   ]
  },
  {
   "cell_type": "code",
   "execution_count": 8,
   "metadata": {},
   "outputs": [],
   "source": [
    "nrows = df.shape[0]\n",
    "\n",
    "# PARAMETROS DO MODELO\n",
    "model = pd.DataFrame()\n",
    "\n",
    "\n",
    "# PARAMETROS P/ O H20 (vapor)\n",
    "u1 = df['hght'].iloc[nrows - 1] # em metros\n",
    "u0 = df['hght'].iloc[0] # em metros\n",
    "t1 = df['temp'].iloc[nrows - 1] # em degC\n",
    "ts = df['temp'].iloc[0] # em degC"
   ]
  }
 ],
 "metadata": {
  "kernelspec": {
   "display_name": "geospatial",
   "language": "python",
   "name": "python3"
  },
  "language_info": {
   "codemirror_mode": {
    "name": "ipython",
    "version": 3
   },
   "file_extension": ".py",
   "mimetype": "text/x-python",
   "name": "python",
   "nbconvert_exporter": "python",
   "pygments_lexer": "ipython3",
   "version": "3.11.3"
  },
  "orig_nbformat": 4
 },
 "nbformat": 4,
 "nbformat_minor": 2
}
